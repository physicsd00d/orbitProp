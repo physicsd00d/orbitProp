{
 "cells": [
  {
   "cell_type": "markdown",
   "metadata": {},
   "source": [
    "Want to figure out how much the moon actually buys you on the path to mars from an orbital mechanics perspective. First find the delta v's then the kg of propellant. Assuming all trajectories start from LEO (then GEO). Pick the martian capture orbit that NASA is planning"
   ]
  },
  {
   "cell_type": "code",
   "execution_count": null,
   "metadata": {},
   "outputs": [],
   "source": [
    "from numpy import pi, sqrt\n",
    "\n",
    "tau_gs = 86164; #s      geostationary period\n",
    "mu_earth = 398600.4418; #km**3/s**2\n",
    "DU = 6378.137;"
   ]
  }
 ],
 "metadata": {
  "kernelspec": {
   "display_name": "Python 3",
   "language": "python",
   "name": "python3"
  },
  "language_info": {
   "codemirror_mode": {
    "name": "ipython",
    "version": 3
   },
   "file_extension": ".py",
   "mimetype": "text/x-python",
   "name": "python",
   "nbconvert_exporter": "python",
   "pygments_lexer": "ipython3",
   "version": "3.7.1"
  }
 },
 "nbformat": 4,
 "nbformat_minor": 2
}
