{
 "cells": [
  {
   "cell_type": "markdown",
   "metadata": {},
   "source": [
    "# 6.2 Compare the cost of raising from LEO to GEO vs the cost of LEO to inserting into elliptical orbit that just reaches the moon.\n",
    "\n",
    "## a.) 200km circular to geo"
   ]
  },
  {
   "cell_type": "code",
   "execution_count": 1,
   "metadata": {},
   "outputs": [
    {
     "name": "stdout",
     "output_type": "stream",
     "text": [
      "delta_v = 3.9318591463985255 km/s\n",
      "transfer time = 5.258867298774038 hours\n"
     ]
    }
   ],
   "source": [
    "from numpy import pi, sqrt\n",
    "\n",
    "tau_gs = 86164; #s      geostationary period\n",
    "mu_earth = 398600.4418; #km**3/s**2\n",
    "DU = 6378.137;\n",
    "\n",
    "a_gs = ((tau_gs/(2*pi))**2 * mu_earth)**(1/3); #42,164 km\n",
    "\n",
    "rA = 200 + DU;\n",
    "rB = a_gs;\n",
    "\n",
    "a_t = 0.5*(rA + rB);\n",
    "\n",
    "vA_minus = sqrt(mu_earth/rA);\n",
    "vB_plus = sqrt(mu_earth/rB);\n",
    "\n",
    "vA_plus = sqrt(2*mu_earth*(1/rA - 1/(rA+rB)));\n",
    "vB_minus = sqrt(2*mu_earth*(1/rB - 1/(rA+rB)));\n",
    "\n",
    "delta_vA = vA_plus - vA_minus;\n",
    "delta_vB = vB_plus - vB_minus;\n",
    "delta_v = delta_vA + delta_vB\n",
    "tau_transfer = pi*sqrt(a_t**3/mu_earth)\n",
    "\n",
    "print(\"delta_v = {} km/s\".format(delta_v))\n",
    "print(\"transfer time = {} hours\".format(tau_transfer/3600)) "
   ]
  },
  {
   "cell_type": "markdown",
   "metadata": {},
   "source": [
    "## b.) One burn from LEO to 384,400 km ellipse"
   ]
  },
  {
   "cell_type": "code",
   "execution_count": 2,
   "metadata": {},
   "outputs": [
    {
     "name": "stdout",
     "output_type": "stream",
     "text": [
      "delta_v = 3.1313450137177217 km/s\n",
      "transfer time = 119.47091775666446 hours\n"
     ]
    }
   ],
   "source": [
    "rA = 200 + DU;\n",
    "rB = 384400;\n",
    "\n",
    "a_t = 0.5*(rA + rB);\n",
    "\n",
    "vA_minus = sqrt(mu_earth/rA);\n",
    "vA_plus = sqrt(2*mu_earth*(1/rA - 1/(rA+rB)));\n",
    "\n",
    "delta_vA = vA_plus - vA_minus;\n",
    "delta_v = delta_vA\n",
    "tau_transfer = pi*sqrt(a_t**3/mu_earth)\n",
    "\n",
    "print(\"delta_v = {} km/s\".format(delta_v))\n",
    "print(\"transfer time = {} hours\".format(tau_transfer/3600)) "
   ]
  },
  {
   "cell_type": "markdown",
   "metadata": {},
   "source": [
    "## c.) Surprised?\n",
    " No, I am not surprised because the calculation to get to the moon is just\n",
    " a collision course.  I would be more surprised if the delta-V to park in\n",
    " an orbit at the moon were less than for going to geostationary because\n",
    " those are more equivalent scenarios to compare.\n",
    "\n",
    " Also, there isn't really much in space to oppose the motion of a moving\n",
    " body, so a little bit of thrust can go a long way."
   ]
  },
  {
   "cell_type": "code",
   "execution_count": null,
   "metadata": {},
   "outputs": [],
   "source": []
  }
 ],
 "metadata": {
  "kernelspec": {
   "display_name": "Python 3",
   "language": "python",
   "name": "python3"
  },
  "language_info": {
   "codemirror_mode": {
    "name": "ipython",
    "version": 3
   },
   "file_extension": ".py",
   "mimetype": "text/x-python",
   "name": "python",
   "nbconvert_exporter": "python",
   "pygments_lexer": "ipython3",
   "version": "3.7.1"
  }
 },
 "nbformat": 4,
 "nbformat_minor": 2
}
